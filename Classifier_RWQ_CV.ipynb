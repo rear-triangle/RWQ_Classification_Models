{
 "cells": [
  {
   "cell_type": "code",
   "execution_count": 35,
   "metadata": {},
   "outputs": [],
   "source": [
    "import warnings\n",
    "warnings.filterwarnings('ignore')  "
   ]
  },
  {
   "cell_type": "code",
   "execution_count": 36,
   "metadata": {},
   "outputs": [
    {
     "name": "stdout",
     "output_type": "stream",
     "text": [
      "1.4.0\n"
     ]
    }
   ],
   "source": [
    "import tensorflow as tf\n",
    "print(tf.__version__)"
   ]
  },
  {
   "cell_type": "code",
   "execution_count": 37,
   "metadata": {},
   "outputs": [
    {
     "name": "stdout",
     "output_type": "stream",
     "text": [
      "0.19.1\n"
     ]
    }
   ],
   "source": [
    "import numpy as np\n",
    "import matplotlib.pyplot as plt\n",
    "import pandas as pd\n",
    "import sklearn\n",
    "import seaborn as sns\n",
    "print(sklearn.__version__)"
   ]
  },
  {
   "cell_type": "code",
   "execution_count": 38,
   "metadata": {},
   "outputs": [
    {
     "name": "stdout",
     "output_type": "stream",
     "text": [
      "[5 5 5 ... 6 5 6]\n"
     ]
    },
    {
     "data": {
      "text/plain": [
       "<matplotlib.axes._subplots.AxesSubplot at 0x1a263d6d68>"
      ]
     },
     "execution_count": 38,
     "metadata": {},
     "output_type": "execute_result"
    },
    {
     "data": {
      "image/png": "[encoded data removed]",
      "text/plain": [
       "<Figure size 432x288 with 1 Axes>"
      ]
     },
     "metadata": {},
     "output_type": "display_data"
    }
   ],
   "source": [
    "Class_type = 'multi-class'\n",
    "\n",
    "if Class_type == 'multi-class':\n",
    "    dataset = pd.read_csv(\"winequality-red.csv\")\n",
    "    avg = 'weighted'\n",
    "elif Class_type == 'binary':\n",
    "    dataset = pd.read_csv(\"winequality-red-binary.csv\")\n",
    "    avg = 'binary'\n",
    "\n",
    "X_cols = list(dataset.columns)\n",
    "del(X_cols[-1])\n",
    "\n",
    "col1 = 0\n",
    "col2 = 11\n",
    "\n",
    "X = dataset.iloc[:,col1:col2].values\n",
    "y = dataset.iloc[:,-1].values\n"
   ]
  },
  {
   "cell_type": "code",
   "execution_count": 39,
   "metadata": {},
   "outputs": [],
   "source": [
    "from sklearn.model_selection import train_test_split\n",
    "X_train_old, X_test_old, y_train, y_test = train_test_split(X,y,test_size=0.3, random_state=0)"
   ]
  },
  {
   "cell_type": "code",
   "execution_count": 40,
   "metadata": {},
   "outputs": [],
   "source": [
    "from sklearn.linear_model import LogisticRegression\n",
    "from sklearn.neighbors import KNeighborsClassifier\n",
    "from sklearn.svm import SVC\n",
    "from sklearn.tree import DecisionTreeClassifier\n",
    "from sklearn.ensemble import RandomForestClassifier\n",
    "\n",
    "\n",
    "### Classifiers and Their Parameter Grids For the Grid Search Algorithm ###\n",
    "\n",
    "cfs = [LogisticRegression(),\n",
    "       KNeighborsClassifier(),\n",
    "       SVC(),\n",
    "       DecisionTreeClassifier(),\n",
    "       RandomForestClassifier()\n",
    "       ]\n",
    "\n",
    "cf_title = ['Logistic Regression',\n",
    "            'K-Nearest Neighbors',\n",
    "            'Kernel SVM', \n",
    "            'Decision Tree', \n",
    "            'Random Forest']"
   ]
  },
  {
   "cell_type": "code",
   "execution_count": 41,
   "metadata": {},
   "outputs": [],
   "source": [
    "from sklearn.ensemble import ExtraTreesClassifier\n",
    "from sklearn.feature_selection import SelectFromModel"
   ]
  },
  {
   "cell_type": "code",
   "execution_count": 42,
   "metadata": {},
   "outputs": [
    {
     "name": "stdout",
     "output_type": "stream",
     "text": [
      "Old shape of dataset = \n",
      "(1119, 11)\n",
      "feature importances:  [0.07898533 0.10130254 0.08000881 0.07855496 0.07423786 0.07827057\n",
      " 0.10016022 0.08204684 0.07782588 0.10386834 0.14473864]\n",
      "Features:  ['fixed acidity', 'volatile acidity', 'citric acid', 'residual sugar', 'chlorides', 'free sulfur dioxide', 'total sulfur dioxide', 'density', 'pH', 'sulphates', 'alcohol']\n",
      "New shape of dataset =  (1119, 4)\n",
      "Selected Features: ['volatile acidity', 'total sulfur dioxide', 'sulphates', 'alcohol']\n"
     ]
    }
   ],
   "source": [
    "#Use extratrees and selectfrommodel to isolate the most important features for classification\n",
    "feature_list = []\n",
    "\n",
    "print('Old shape of dataset = ')\n",
    "print(X_train_old.shape)\n",
    "\n",
    "featmodel = ExtraTreesClassifier(n_estimators=100)\n",
    "featmodel = featmodel.fit(X_train_old,y_train)\n",
    "print(\"feature importances: \", featmodel.feature_importances_)\n",
    "model = SelectFromModel(featmodel,prefit=True)\n",
    "feature_idx = model.get_support(indices = True)\n",
    "for i in feature_idx:\n",
    "    feature_list.append(X_cols[i])\n",
    "print('Features: ', X_cols)\n",
    "\n",
    "X_train = model.transform(X_train_old)\n",
    "X_test = model.transform(X_test_old)\n",
    "\n",
    "print('New shape of dataset = ', X_train.shape)\n",
    "print('Selected Features:', feature_list) "
   ]
  },
  {
   "cell_type": "code",
   "execution_count": 43,
   "metadata": {},
   "outputs": [],
   "source": [
    "from sklearn.preprocessing import StandardScaler\n",
    "sc = StandardScaler()\n",
    "X_train = sc.fit_transform(X_train)\n",
    "X_test = sc.transform(X_test)"
   ]
  },
  {
   "cell_type": "code",
   "execution_count": 44,
   "metadata": {
    "scrolled": false
   },
   "outputs": [
    {
     "name": "stdout",
     "output_type": "stream",
     "text": [
      "### Accuracy/Precision/Recall/F1 ###\n",
      "\n",
      "\n",
      "The accuracy for the Logistic Regression classifier was: 0.5764776924953916\n",
      "The precision for the Logistic Regression classifier was: 0.5473325045436364\n",
      "The recall for the Logistic Regression classifier was: 0.5764776924953916\n",
      "The f1 score for the Logistic Regression classifier was: 0.5445384769525053\n",
      "\n",
      "\n",
      "==================================================================================\n",
      "### Accuracy/Precision/Recall/F1 ###\n",
      "\n",
      "\n",
      "The accuracy for the K-Nearest Neighbors classifier was: 0.5622222850364443\n",
      "The precision for the K-Nearest Neighbors classifier was: 0.5459637220054716\n",
      "The recall for the K-Nearest Neighbors classifier was: 0.5622222850364443\n",
      "The f1 score for the K-Nearest Neighbors classifier was: 0.5480013591080379\n",
      "\n",
      "\n",
      "==================================================================================\n",
      "### Accuracy/Precision/Recall/F1 ###\n",
      "\n",
      "\n",
      "The accuracy for the Kernel SVM classifier was: 0.577407521761504\n",
      "The precision for the Kernel SVM classifier was: 0.5542887598057031\n",
      "The recall for the Kernel SVM classifier was: 0.577407521761504\n",
      "The f1 score for the Kernel SVM classifier was: 0.5535654122791054\n",
      "\n",
      "\n",
      "==================================================================================\n",
      "### Accuracy/Precision/Recall/F1 ###\n",
      "\n",
      "\n",
      "The accuracy for the Decision Tree classifier was: 0.5659275655381849\n",
      "The precision for the Decision Tree classifier was: 0.5720689835551835\n",
      "The recall for the Decision Tree classifier was: 0.5659275655381849\n",
      "The f1 score for the Decision Tree classifier was: 0.5658153734079473\n",
      "\n",
      "\n",
      "==================================================================================\n",
      "### Accuracy/Precision/Recall/F1 ###\n",
      "\n",
      "\n",
      "The accuracy for the Random Forest classifier was: 0.6006523933426589\n",
      "The precision for the Random Forest classifier was: 0.5939104787524483\n",
      "The recall for the Random Forest classifier was: 0.6006523933426589\n",
      "The f1 score for the Random Forest classifier was: 0.5900405611723557\n",
      "\n",
      "\n",
      "==================================================================================\n"
     ]
    }
   ],
   "source": [
    "from sklearn.model_selection import learning_curve, cross_validate\n",
    "from sklearn.model_selection import StratifiedKFold\n",
    "\n",
    "acc=[]\n",
    "ps=[]\n",
    "rs=[]\n",
    "f_1=[]\n",
    "\n",
    "cv = StratifiedKFold(n_splits=5)\n",
    "\n",
    "scoring = {'acc': 'accuracy',\n",
    "           'prec_weight': 'precision_weighted',\n",
    "           'rec_weight': 'recall_weighted',\n",
    "          'f1_weight': 'f1_weighted'}\n",
    "\n",
    "def plot_learning_curve(estimator, title, X, y, axes=None, ylim=None, cv=cv,\n",
    "                        n_jobs=None, train_sizes=np.linspace(.1, 1.0, 5)):\n",
    "\n",
    "    plt.figure()\n",
    "    plt.title(title)\n",
    "    if ylim is not None:\n",
    "        plt.ylim(*ylim)\n",
    "    plt.xlabel(\"Training examples\")\n",
    "    plt.ylabel(\"Score\")\n",
    "\n",
    "    train_sizes, train_scores, test_scores= \\\n",
    "        learning_curve(estimator, X, y, cv=cv, n_jobs=n_jobs,\n",
    "                       train_sizes=train_sizes)\n",
    "    train_scores_mean = np.mean(train_scores, axis=1)\n",
    "    train_scores_std = np.std(train_scores, axis=1)\n",
    "    test_scores_mean = np.mean(test_scores, axis=1)\n",
    "    test_scores_std = np.std(test_scores, axis=1)\n",
    "\n",
    "\n",
    "    # Plot learning curve\n",
    "    plt.grid()\n",
    "    plt.fill_between(train_sizes, train_scores_mean - train_scores_std,\n",
    "                         train_scores_mean + train_scores_std, alpha=0.1,\n",
    "                         color=\"r\")\n",
    "    plt.fill_between(train_sizes, test_scores_mean - test_scores_std,\n",
    "                         test_scores_mean + test_scores_std, alpha=0.1,\n",
    "                         color=\"g\")\n",
    "    plt.plot(train_sizes, train_scores_mean, 'o-', color=\"r\",\n",
    "                 label=\"Training score\")\n",
    "    plt.plot(train_sizes, test_scores_mean, 'o-', color=\"g\",\n",
    "                 label=\"Cross-validation score\")\n",
    "    plt.legend(loc=\"best\")\n",
    "    \n",
    "    \n",
    "for classifier in range(0, len(cfs)):\n",
    "    \n",
    "    \n",
    "    scores = cross_validate(estimator = cfs[classifier], X = X_train, y = y_train,scoring=scoring, cv = cv)\n",
    "    \n",
    "    acc.append(np.mean(scores['test_acc']))\n",
    "    ps.append(np.mean(scores['test_prec_weight']))\n",
    "    rs.append(np.mean(scores['test_rec_weight']))\n",
    "    f_1.append(np.mean(scores['test_f1_weight']))\n",
    "    \n",
    "    print('### Accuracy/Precision/Recall/F1 ###')\n",
    "    print('\\n')\n",
    "    print('The accuracy for the '+cf_title[classifier]+' classifier was: '+str(acc[classifier])) \n",
    "    print('The precision for the '+cf_title[classifier]+' classifier was: '+str(ps[classifier])) \n",
    "    print('The recall for the '+cf_title[classifier]+' classifier was: '+str(rs[classifier]))\n",
    "    print('The f1 score for the '+cf_title[classifier]+' classifier was: '+str(f_1[classifier]))\n",
    "    print('\\n')\n",
    "    print('==================================================================================')\n",
    "    \n",
    "    y_pred = None"
   ]
  }
 ],
 "metadata": {
  "kernelspec": {
   "display_name": "Python 3",
   "language": "python",
   "name": "python3"
  },
  "language_info": {
   "codemirror_mode": {
    "name": "ipython",
    "version": 3
   },
   "file_extension": ".py",
   "mimetype": "text/x-python",
   "name": "python",
   "nbconvert_exporter": "python",
   "pygments_lexer": "ipython3",
   "version": "3.6.5"
  }
 },
 "nbformat": 4,
 "nbformat_minor": 2
}
